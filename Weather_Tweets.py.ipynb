{
 "cells": [
  {
   "cell_type": "code",
   "execution_count": 1,
   "metadata": {},
   "outputs": [],
   "source": [
    "# Dependencies\n",
    "import tweepy\n",
    "import time\n",
    "import json\n",
    "import os\n",
    "import random\n",
    "import requests as req\n",
    "import datetime\n",
    "from config import consumer_key, consumer_secret, access_token, access_token_secret, weather_api_key"
   ]
  },
  {
   "cell_type": "code",
   "execution_count": 2,
   "metadata": {},
   "outputs": [],
   "source": [
    "# Twitter API Keys\n",
    "consumer_key = consumer_key\n",
    "consumer_secret = consumer_secret\n",
    "access_token = access_token\n",
    "access_token_secret = access_token_secret"
   ]
  },
  {
   "cell_type": "code",
   "execution_count": 3,
   "metadata": {},
   "outputs": [],
   "source": [
    "# Create a function that gets the weather in London and Tweets it\n",
    "def WeatherTweet():\n",
    "\n",
    "    # Construct a Query URL for the OpenWeatherMap\n",
    "    url = 'http://api.openweathermap.org/data/2.5/weather?'\n",
    "    city = 'Washington, D.C.'\n",
    "    units = 'imperial'\n",
    "    query_url = (f'{url}appid={weather_api_key}&q={city}&units={units}')\n",
    "\n",
    "    # Perform the API call to get the weather\n",
    "    weather_response = req.get(query_url)\n",
    "    weather_json = weather_response.json()\n",
    "    print(weather_json)\n",
    "\n",
    "    # Twitter credentials\n",
    "    auth = tweepy.OAuthHandler(consumer_key, consumer_secret)\n",
    "    auth.set_access_token(access_token, access_token_secret)\n",
    "    api = tweepy.API(auth, parser=tweepy.parsers.JSONParser())\n",
    "\n",
    "    # Tweet the weather\n",
    "    api.update_status(\n",
    "        \"[Atobot] - Weather in DC \" +\\\n",
    "        (datetime.datetime.now().strftime(\"%I:%M %p\") + \" \" +\\\n",
    "         str(weather_json[\"main\"][\"temp\"])+\"F\"))\n",
    "\n",
    "    # Print success message\n",
    "    print(\"Tweeted successfully!\")"
   ]
  },
  {
   "cell_type": "code",
   "execution_count": 4,
   "metadata": {},
   "outputs": [],
   "source": [
    "# Test out the function\n",
    "# WeatherTweet()"
   ]
  },
  {
   "cell_type": "code",
   "execution_count": 5,
   "metadata": {},
   "outputs": [
    {
     "name": "stdout",
     "output_type": "stream",
     "text": [
      "{'coord': {'lon': -120.5, 'lat': 47.5}, 'weather': [{'id': 800, 'main': 'Clear', 'description': 'clear sky', 'icon': '01d'}], 'base': 'stations', 'main': {'temp': 90.64, 'feels_like': 87.87, 'temp_min': 88, 'temp_max': 93, 'pressure': 1013, 'humidity': 23}, 'visibility': 10000, 'wind': {'speed': 4, 'deg': 71, 'gust': 11.99}, 'clouds': {'all': 7}, 'dt': 1596581351, 'sys': {'type': 3, 'id': 2019804, 'country': 'US', 'sunrise': 1596545066, 'sunset': 1596598295}, 'timezone': -25200, 'id': 5815135, 'name': 'Washington', 'cod': 200}\n",
      "Tweeted successfully!\n",
      "{'coord': {'lon': -120.5, 'lat': 47.5}, 'weather': [{'id': 800, 'main': 'Clear', 'description': 'clear sky', 'icon': '01d'}], 'base': 'stations', 'main': {'temp': 90.64, 'feels_like': 87.87, 'temp_min': 88, 'temp_max': 93, 'pressure': 1013, 'humidity': 23}, 'visibility': 10000, 'wind': {'speed': 4, 'deg': 71, 'gust': 11.99}, 'clouds': {'all': 7}, 'dt': 1596581351, 'sys': {'type': 3, 'id': 2019804, 'country': 'US', 'sunrise': 1596545066, 'sunset': 1596598295}, 'timezone': -25200, 'id': 5815135, 'name': 'Washington', 'cod': 200}\n",
      "Tweeted successfully!\n",
      "{'coord': {'lon': -120.5, 'lat': 47.5}, 'weather': [{'id': 800, 'main': 'Clear', 'description': 'clear sky', 'icon': '01d'}], 'base': 'stations', 'main': {'temp': 90.64, 'feels_like': 87.87, 'temp_min': 88, 'temp_max': 93, 'pressure': 1013, 'humidity': 23}, 'visibility': 10000, 'wind': {'speed': 4, 'deg': 71, 'gust': 11.99}, 'clouds': {'all': 7}, 'dt': 1596581351, 'sys': {'type': 3, 'id': 2019804, 'country': 'US', 'sunrise': 1596545066, 'sunset': 1596598295}, 'timezone': -25200, 'id': 5815135, 'name': 'Washington', 'cod': 200}\n",
      "Tweeted successfully!\n",
      "{'coord': {'lon': -120.5, 'lat': 47.5}, 'weather': [{'id': 800, 'main': 'Clear', 'description': 'clear sky', 'icon': '01d'}], 'base': 'stations', 'main': {'temp': 90.64, 'feels_like': 87.87, 'temp_min': 88, 'temp_max': 93, 'pressure': 1013, 'humidity': 23}, 'visibility': 10000, 'wind': {'speed': 4, 'deg': 71, 'gust': 11.99}, 'clouds': {'all': 7}, 'dt': 1596581351, 'sys': {'type': 3, 'id': 2019804, 'country': 'US', 'sunrise': 1596545066, 'sunset': 1596598295}, 'timezone': -25200, 'id': 5815135, 'name': 'Washington', 'cod': 200}\n",
      "Tweeted successfully!\n",
      "{'coord': {'lon': -120.5, 'lat': 47.5}, 'weather': [{'id': 800, 'main': 'Clear', 'description': 'clear sky', 'icon': '01d'}], 'base': 'stations', 'main': {'temp': 90.95, 'feels_like': 88.79, 'temp_min': 88, 'temp_max': 93, 'pressure': 1010, 'humidity': 21}, 'visibility': 10000, 'wind': {'speed': 1.99, 'deg': 88, 'gust': 7}, 'clouds': {'all': 7}, 'dt': 1596581734, 'sys': {'type': 3, 'id': 2003593, 'country': 'US', 'sunrise': 1596545066, 'sunset': 1596598295}, 'timezone': -25200, 'id': 5815135, 'name': 'Washington', 'cod': 200}\n",
      "Tweeted successfully!\n",
      "{'coord': {'lon': -120.5, 'lat': 47.5}, 'weather': [{'id': 800, 'main': 'Clear', 'description': 'clear sky', 'icon': '01d'}], 'base': 'stations', 'main': {'temp': 90.95, 'feels_like': 88.79, 'temp_min': 88, 'temp_max': 93, 'pressure': 1010, 'humidity': 21}, 'visibility': 10000, 'wind': {'speed': 1.99, 'deg': 88, 'gust': 7}, 'clouds': {'all': 7}, 'dt': 1596581734, 'sys': {'type': 3, 'id': 2003593, 'country': 'US', 'sunrise': 1596545066, 'sunset': 1596598295}, 'timezone': -25200, 'id': 5815135, 'name': 'Washington', 'cod': 200}\n",
      "Tweeted successfully!\n",
      "{'coord': {'lon': -120.5, 'lat': 47.5}, 'weather': [{'id': 800, 'main': 'Clear', 'description': 'clear sky', 'icon': '01d'}], 'base': 'stations', 'main': {'temp': 90.95, 'feels_like': 88.79, 'temp_min': 88, 'temp_max': 93, 'pressure': 1010, 'humidity': 21}, 'visibility': 10000, 'wind': {'speed': 1.99, 'deg': 88, 'gust': 7}, 'clouds': {'all': 7}, 'dt': 1596581734, 'sys': {'type': 3, 'id': 2003593, 'country': 'US', 'sunrise': 1596545066, 'sunset': 1596598295}, 'timezone': -25200, 'id': 5815135, 'name': 'Washington', 'cod': 200}\n",
      "Tweeted successfully!\n",
      "{'coord': {'lon': -120.5, 'lat': 47.5}, 'weather': [{'id': 800, 'main': 'Clear', 'description': 'clear sky', 'icon': '01d'}], 'base': 'stations', 'main': {'temp': 90.95, 'feels_like': 88.79, 'temp_min': 88, 'temp_max': 93, 'pressure': 1010, 'humidity': 21}, 'visibility': 10000, 'wind': {'speed': 1.99, 'deg': 88, 'gust': 7}, 'clouds': {'all': 7}, 'dt': 1596581734, 'sys': {'type': 3, 'id': 2003593, 'country': 'US', 'sunrise': 1596545066, 'sunset': 1596598295}, 'timezone': -25200, 'id': 5815135, 'name': 'Washington', 'cod': 200}\n",
      "Tweeted successfully!\n",
      "{'coord': {'lon': -120.5, 'lat': 47.5}, 'weather': [{'id': 800, 'main': 'Clear', 'description': 'clear sky', 'icon': '01d'}], 'base': 'stations', 'main': {'temp': 90.95, 'feels_like': 88.79, 'temp_min': 88, 'temp_max': 93, 'pressure': 1010, 'humidity': 21}, 'visibility': 10000, 'wind': {'speed': 1.99, 'deg': 88, 'gust': 7}, 'clouds': {'all': 7}, 'dt': 1596581734, 'sys': {'type': 3, 'id': 2003593, 'country': 'US', 'sunrise': 1596545066, 'sunset': 1596598295}, 'timezone': -25200, 'id': 5815135, 'name': 'Washington', 'cod': 200}\n",
      "Tweeted successfully!\n",
      "{'coord': {'lon': -120.5, 'lat': 47.5}, 'weather': [{'id': 800, 'main': 'Clear', 'description': 'clear sky', 'icon': '01d'}], 'base': 'stations', 'main': {'temp': 90.95, 'feels_like': 88.79, 'temp_min': 88, 'temp_max': 93, 'pressure': 1010, 'humidity': 21}, 'visibility': 10000, 'wind': {'speed': 1.99, 'deg': 88, 'gust': 7}, 'clouds': {'all': 7}, 'dt': 1596581734, 'sys': {'type': 3, 'id': 2003593, 'country': 'US', 'sunrise': 1596545066, 'sunset': 1596598295}, 'timezone': -25200, 'id': 5815135, 'name': 'Washington', 'cod': 200}\n",
      "Tweeted successfully!\n",
      "{'coord': {'lon': -120.5, 'lat': 47.5}, 'weather': [{'id': 800, 'main': 'Clear', 'description': 'clear sky', 'icon': '01d'}], 'base': 'stations', 'main': {'temp': 90.95, 'feels_like': 88.79, 'temp_min': 88, 'temp_max': 93, 'pressure': 1010, 'humidity': 21}, 'visibility': 10000, 'wind': {'speed': 1.99, 'deg': 88, 'gust': 7}, 'clouds': {'all': 7}, 'dt': 1596581734, 'sys': {'type': 3, 'id': 2003593, 'country': 'US', 'sunrise': 1596545066, 'sunset': 1596598295}, 'timezone': -25200, 'id': 5815135, 'name': 'Washington', 'cod': 200}\n",
      "Tweeted successfully!\n",
      "{'coord': {'lon': -120.5, 'lat': 47.5}, 'weather': [{'id': 800, 'main': 'Clear', 'description': 'clear sky', 'icon': '01d'}], 'base': 'stations', 'main': {'temp': 90.95, 'feels_like': 88.79, 'temp_min': 88, 'temp_max': 93, 'pressure': 1010, 'humidity': 21}, 'visibility': 10000, 'wind': {'speed': 1.99, 'deg': 88, 'gust': 7}, 'clouds': {'all': 7}, 'dt': 1596581734, 'sys': {'type': 3, 'id': 2003593, 'country': 'US', 'sunrise': 1596545066, 'sunset': 1596598295}, 'timezone': -25200, 'id': 5815135, 'name': 'Washington', 'cod': 200}\n",
      "Tweeted successfully!\n",
      "{'coord': {'lon': -120.5, 'lat': 47.5}, 'weather': [{'id': 800, 'main': 'Clear', 'description': 'clear sky', 'icon': '01d'}], 'base': 'stations', 'main': {'temp': 90.95, 'feels_like': 88.79, 'temp_min': 88, 'temp_max': 93, 'pressure': 1010, 'humidity': 21}, 'visibility': 10000, 'wind': {'speed': 1.99, 'deg': 88, 'gust': 7}, 'clouds': {'all': 7}, 'dt': 1596581734, 'sys': {'type': 3, 'id': 2003593, 'country': 'US', 'sunrise': 1596545066, 'sunset': 1596598295}, 'timezone': -25200, 'id': 5815135, 'name': 'Washington', 'cod': 200}\n",
      "Tweeted successfully!\n",
      "{'coord': {'lon': -120.5, 'lat': 47.5}, 'weather': [{'id': 800, 'main': 'Clear', 'description': 'clear sky', 'icon': '01d'}], 'base': 'stations', 'main': {'temp': 90.95, 'feels_like': 88.79, 'temp_min': 88, 'temp_max': 93, 'pressure': 1010, 'humidity': 21}, 'visibility': 10000, 'wind': {'speed': 1.99, 'deg': 88, 'gust': 7}, 'clouds': {'all': 7}, 'dt': 1596581734, 'sys': {'type': 3, 'id': 2003593, 'country': 'US', 'sunrise': 1596545066, 'sunset': 1596598295}, 'timezone': -25200, 'id': 5815135, 'name': 'Washington', 'cod': 200}\n",
      "Tweeted successfully!\n",
      "{'coord': {'lon': -120.5, 'lat': 47.5}, 'weather': [{'id': 800, 'main': 'Clear', 'description': 'clear sky', 'icon': '01d'}], 'base': 'stations', 'main': {'temp': 91.47, 'feels_like': 89.67, 'temp_min': 90, 'temp_max': 93, 'pressure': 1009, 'humidity': 20}, 'visibility': 10000, 'wind': {'speed': 1.01, 'deg': 160, 'gust': 7}, 'clouds': {'all': 7}, 'dt': 1596582373, 'sys': {'type': 3, 'id': 2003593, 'country': 'US', 'sunrise': 1596545066, 'sunset': 1596598295}, 'timezone': -25200, 'id': 5815135, 'name': 'Washington', 'cod': 200}\n",
      "Tweeted successfully!\n"
     ]
    },
    {
     "name": "stdout",
     "output_type": "stream",
     "text": [
      "{'coord': {'lon': -120.5, 'lat': 47.5}, 'weather': [{'id': 800, 'main': 'Clear', 'description': 'clear sky', 'icon': '01d'}], 'base': 'stations', 'main': {'temp': 91.47, 'feels_like': 89.67, 'temp_min': 90, 'temp_max': 93, 'pressure': 1009, 'humidity': 20}, 'visibility': 10000, 'wind': {'speed': 1.01, 'deg': 160, 'gust': 7}, 'clouds': {'all': 7}, 'dt': 1596582373, 'sys': {'type': 3, 'id': 2003593, 'country': 'US', 'sunrise': 1596545066, 'sunset': 1596598295}, 'timezone': -25200, 'id': 5815135, 'name': 'Washington', 'cod': 200}\n",
      "Tweeted successfully!\n",
      "{'coord': {'lon': -120.5, 'lat': 47.5}, 'weather': [{'id': 800, 'main': 'Clear', 'description': 'clear sky', 'icon': '01d'}], 'base': 'stations', 'main': {'temp': 91.47, 'feels_like': 89.67, 'temp_min': 90, 'temp_max': 93, 'pressure': 1009, 'humidity': 20}, 'visibility': 10000, 'wind': {'speed': 1.01, 'deg': 160, 'gust': 7}, 'clouds': {'all': 7}, 'dt': 1596582373, 'sys': {'type': 3, 'id': 2003593, 'country': 'US', 'sunrise': 1596545066, 'sunset': 1596598295}, 'timezone': -25200, 'id': 5815135, 'name': 'Washington', 'cod': 200}\n",
      "Tweeted successfully!\n",
      "{'coord': {'lon': -120.5, 'lat': 47.5}, 'weather': [{'id': 800, 'main': 'Clear', 'description': 'clear sky', 'icon': '01d'}], 'base': 'stations', 'main': {'temp': 91.47, 'feels_like': 89.67, 'temp_min': 90, 'temp_max': 93, 'pressure': 1009, 'humidity': 20}, 'visibility': 10000, 'wind': {'speed': 1.01, 'deg': 160, 'gust': 7}, 'clouds': {'all': 7}, 'dt': 1596582373, 'sys': {'type': 3, 'id': 2003593, 'country': 'US', 'sunrise': 1596545066, 'sunset': 1596598295}, 'timezone': -25200, 'id': 5815135, 'name': 'Washington', 'cod': 200}\n",
      "Tweeted successfully!\n",
      "{'coord': {'lon': -120.5, 'lat': 47.5}, 'weather': [{'id': 800, 'main': 'Clear', 'description': 'clear sky', 'icon': '01d'}], 'base': 'stations', 'main': {'temp': 91.47, 'feels_like': 89.67, 'temp_min': 90, 'temp_max': 93, 'pressure': 1009, 'humidity': 20}, 'visibility': 10000, 'wind': {'speed': 1.01, 'deg': 160, 'gust': 7}, 'clouds': {'all': 7}, 'dt': 1596582373, 'sys': {'type': 3, 'id': 2003593, 'country': 'US', 'sunrise': 1596545066, 'sunset': 1596598295}, 'timezone': -25200, 'id': 5815135, 'name': 'Washington', 'cod': 200}\n",
      "Tweeted successfully!\n",
      "{'coord': {'lon': -120.5, 'lat': 47.5}, 'weather': [{'id': 800, 'main': 'Clear', 'description': 'clear sky', 'icon': '01d'}], 'base': 'stations', 'main': {'temp': 91.47, 'feels_like': 89.67, 'temp_min': 90, 'temp_max': 93, 'pressure': 1009, 'humidity': 20}, 'visibility': 10000, 'wind': {'speed': 1.01, 'deg': 160, 'gust': 7}, 'clouds': {'all': 7}, 'dt': 1596582373, 'sys': {'type': 3, 'id': 2003593, 'country': 'US', 'sunrise': 1596545066, 'sunset': 1596598295}, 'timezone': -25200, 'id': 5815135, 'name': 'Washington', 'cod': 200}\n",
      "Tweeted successfully!\n",
      "{'coord': {'lon': -120.5, 'lat': 47.5}, 'weather': [{'id': 800, 'main': 'Clear', 'description': 'clear sky', 'icon': '01d'}], 'base': 'stations', 'main': {'temp': 91.47, 'feels_like': 89.67, 'temp_min': 90, 'temp_max': 93, 'pressure': 1009, 'humidity': 20}, 'visibility': 10000, 'wind': {'speed': 1.01, 'deg': 160, 'gust': 7}, 'clouds': {'all': 7}, 'dt': 1596582373, 'sys': {'type': 3, 'id': 2003593, 'country': 'US', 'sunrise': 1596545066, 'sunset': 1596598295}, 'timezone': -25200, 'id': 5815135, 'name': 'Washington', 'cod': 200}\n",
      "Tweeted successfully!\n",
      "{'coord': {'lon': -120.5, 'lat': 47.5}, 'weather': [{'id': 800, 'main': 'Clear', 'description': 'clear sky', 'icon': '01d'}], 'base': 'stations', 'main': {'temp': 91.47, 'feels_like': 89.67, 'temp_min': 90, 'temp_max': 93, 'pressure': 1009, 'humidity': 20}, 'visibility': 10000, 'wind': {'speed': 1.01, 'deg': 160, 'gust': 7}, 'clouds': {'all': 7}, 'dt': 1596582373, 'sys': {'type': 3, 'id': 2003593, 'country': 'US', 'sunrise': 1596545066, 'sunset': 1596598295}, 'timezone': -25200, 'id': 5815135, 'name': 'Washington', 'cod': 200}\n",
      "Tweeted successfully!\n",
      "{'coord': {'lon': -120.5, 'lat': 47.5}, 'weather': [{'id': 800, 'main': 'Clear', 'description': 'clear sky', 'icon': '01d'}], 'base': 'stations', 'main': {'temp': 91.47, 'feels_like': 89.67, 'temp_min': 90, 'temp_max': 93, 'pressure': 1009, 'humidity': 20}, 'visibility': 10000, 'wind': {'speed': 1.01, 'deg': 160, 'gust': 7}, 'clouds': {'all': 7}, 'dt': 1596582373, 'sys': {'type': 3, 'id': 2003593, 'country': 'US', 'sunrise': 1596545066, 'sunset': 1596598295}, 'timezone': -25200, 'id': 5815135, 'name': 'Washington', 'cod': 200}\n",
      "Tweeted successfully!\n",
      "{'coord': {'lon': -120.5, 'lat': 47.5}, 'weather': [{'id': 800, 'main': 'Clear', 'description': 'clear sky', 'icon': '01d'}], 'base': 'stations', 'main': {'temp': 91.47, 'feels_like': 89.67, 'temp_min': 90, 'temp_max': 93, 'pressure': 1009, 'humidity': 20}, 'visibility': 10000, 'wind': {'speed': 1.01, 'deg': 160, 'gust': 7}, 'clouds': {'all': 7}, 'dt': 1596582373, 'sys': {'type': 3, 'id': 2003593, 'country': 'US', 'sunrise': 1596545066, 'sunset': 1596598295}, 'timezone': -25200, 'id': 5815135, 'name': 'Washington', 'cod': 200}\n",
      "Tweeted successfully!\n",
      "{'coord': {'lon': -120.5, 'lat': 47.5}, 'weather': [{'id': 800, 'main': 'Clear', 'description': 'clear sky', 'icon': '01d'}], 'base': 'stations', 'main': {'temp': 91.67, 'feels_like': 86.29, 'temp_min': 91, 'temp_max': 93, 'pressure': 1009, 'humidity': 19}, 'visibility': 10000, 'wind': {'speed': 6.89, 'deg': 83}, 'clouds': {'all': 7}, 'dt': 1596582994, 'sys': {'type': 3, 'id': 2003593, 'country': 'US', 'sunrise': 1596545066, 'sunset': 1596598295}, 'timezone': -25200, 'id': 5815135, 'name': 'Washington', 'cod': 200}\n",
      "Tweeted successfully!\n",
      "{'coord': {'lon': -120.5, 'lat': 47.5}, 'weather': [{'id': 800, 'main': 'Clear', 'description': 'clear sky', 'icon': '01d'}], 'base': 'stations', 'main': {'temp': 91.67, 'feels_like': 86.29, 'temp_min': 91, 'temp_max': 93, 'pressure': 1009, 'humidity': 19}, 'visibility': 10000, 'wind': {'speed': 6.89, 'deg': 83}, 'clouds': {'all': 7}, 'dt': 1596582994, 'sys': {'type': 3, 'id': 2003593, 'country': 'US', 'sunrise': 1596545066, 'sunset': 1596598295}, 'timezone': -25200, 'id': 5815135, 'name': 'Washington', 'cod': 200}\n",
      "Tweeted successfully!\n",
      "{'coord': {'lon': -120.5, 'lat': 47.5}, 'weather': [{'id': 800, 'main': 'Clear', 'description': 'clear sky', 'icon': '01d'}], 'base': 'stations', 'main': {'temp': 91.67, 'feels_like': 86.29, 'temp_min': 91, 'temp_max': 93, 'pressure': 1009, 'humidity': 19}, 'visibility': 10000, 'wind': {'speed': 6.89, 'deg': 83}, 'clouds': {'all': 7}, 'dt': 1596582994, 'sys': {'type': 3, 'id': 2003593, 'country': 'US', 'sunrise': 1596545066, 'sunset': 1596598295}, 'timezone': -25200, 'id': 5815135, 'name': 'Washington', 'cod': 200}\n",
      "Tweeted successfully!\n",
      "{'coord': {'lon': -120.5, 'lat': 47.5}, 'weather': [{'id': 800, 'main': 'Clear', 'description': 'clear sky', 'icon': '01d'}], 'base': 'stations', 'main': {'temp': 91.67, 'feels_like': 86.29, 'temp_min': 91, 'temp_max': 93, 'pressure': 1009, 'humidity': 19}, 'visibility': 10000, 'wind': {'speed': 6.89, 'deg': 83}, 'clouds': {'all': 7}, 'dt': 1596582994, 'sys': {'type': 3, 'id': 2003593, 'country': 'US', 'sunrise': 1596545066, 'sunset': 1596598295}, 'timezone': -25200, 'id': 5815135, 'name': 'Washington', 'cod': 200}\n",
      "Tweeted successfully!\n",
      "{'coord': {'lon': -120.5, 'lat': 47.5}, 'weather': [{'id': 800, 'main': 'Clear', 'description': 'clear sky', 'icon': '01d'}], 'base': 'stations', 'main': {'temp': 91.67, 'feels_like': 86.29, 'temp_min': 91, 'temp_max': 93, 'pressure': 1009, 'humidity': 19}, 'visibility': 10000, 'wind': {'speed': 6.89, 'deg': 83}, 'clouds': {'all': 7}, 'dt': 1596582994, 'sys': {'type': 3, 'id': 2003593, 'country': 'US', 'sunrise': 1596545066, 'sunset': 1596598295}, 'timezone': -25200, 'id': 5815135, 'name': 'Washington', 'cod': 200}\n",
      "Tweeted successfully!\n",
      "{'coord': {'lon': -120.5, 'lat': 47.5}, 'weather': [{'id': 800, 'main': 'Clear', 'description': 'clear sky', 'icon': '01d'}], 'base': 'stations', 'main': {'temp': 91.67, 'feels_like': 86.29, 'temp_min': 91, 'temp_max': 93, 'pressure': 1009, 'humidity': 19}, 'visibility': 10000, 'wind': {'speed': 6.89, 'deg': 83}, 'clouds': {'all': 7}, 'dt': 1596582994, 'sys': {'type': 3, 'id': 2003593, 'country': 'US', 'sunrise': 1596545066, 'sunset': 1596598295}, 'timezone': -25200, 'id': 5815135, 'name': 'Washington', 'cod': 200}\n"
     ]
    },
    {
     "name": "stdout",
     "output_type": "stream",
     "text": [
      "Tweeted successfully!\n",
      "{'coord': {'lon': -120.5, 'lat': 47.5}, 'weather': [{'id': 800, 'main': 'Clear', 'description': 'clear sky', 'icon': '01d'}], 'base': 'stations', 'main': {'temp': 91.67, 'feels_like': 86.29, 'temp_min': 91, 'temp_max': 93, 'pressure': 1009, 'humidity': 19}, 'visibility': 10000, 'wind': {'speed': 6.89, 'deg': 83}, 'clouds': {'all': 7}, 'dt': 1596582994, 'sys': {'type': 3, 'id': 2003593, 'country': 'US', 'sunrise': 1596545066, 'sunset': 1596598295}, 'timezone': -25200, 'id': 5815135, 'name': 'Washington', 'cod': 200}\n",
      "Tweeted successfully!\n",
      "{'coord': {'lon': -120.5, 'lat': 47.5}, 'weather': [{'id': 800, 'main': 'Clear', 'description': 'clear sky', 'icon': '01d'}], 'base': 'stations', 'main': {'temp': 91.67, 'feels_like': 86.29, 'temp_min': 91, 'temp_max': 93, 'pressure': 1009, 'humidity': 19}, 'visibility': 10000, 'wind': {'speed': 6.89, 'deg': 83}, 'clouds': {'all': 7}, 'dt': 1596582994, 'sys': {'type': 3, 'id': 2003593, 'country': 'US', 'sunrise': 1596545066, 'sunset': 1596598295}, 'timezone': -25200, 'id': 5815135, 'name': 'Washington', 'cod': 200}\n",
      "Tweeted successfully!\n",
      "{'coord': {'lon': -120.5, 'lat': 47.5}, 'weather': [{'id': 800, 'main': 'Clear', 'description': 'clear sky', 'icon': '01d'}], 'base': 'stations', 'main': {'temp': 91.67, 'feels_like': 86.29, 'temp_min': 91, 'temp_max': 93, 'pressure': 1009, 'humidity': 19}, 'visibility': 10000, 'wind': {'speed': 6.89, 'deg': 83}, 'clouds': {'all': 7}, 'dt': 1596582994, 'sys': {'type': 3, 'id': 2003593, 'country': 'US', 'sunrise': 1596545066, 'sunset': 1596598295}, 'timezone': -25200, 'id': 5815135, 'name': 'Washington', 'cod': 200}\n",
      "Tweeted successfully!\n",
      "{'coord': {'lon': -120.5, 'lat': 47.5}, 'weather': [{'id': 800, 'main': 'Clear', 'description': 'clear sky', 'icon': '01d'}], 'base': 'stations', 'main': {'temp': 91.67, 'feels_like': 86.29, 'temp_min': 91, 'temp_max': 93, 'pressure': 1009, 'humidity': 19}, 'visibility': 10000, 'wind': {'speed': 6.89, 'deg': 83}, 'clouds': {'all': 7}, 'dt': 1596582994, 'sys': {'type': 3, 'id': 2003593, 'country': 'US', 'sunrise': 1596545066, 'sunset': 1596598295}, 'timezone': -25200, 'id': 5815135, 'name': 'Washington', 'cod': 200}\n",
      "Tweeted successfully!\n",
      "{'coord': {'lon': -120.5, 'lat': 47.5}, 'weather': [{'id': 800, 'main': 'Clear', 'description': 'clear sky', 'icon': '01d'}], 'base': 'stations', 'main': {'temp': 91.29, 'feels_like': 89.17, 'temp_min': 90, 'temp_max': 93, 'pressure': 1009, 'humidity': 19}, 'visibility': 10000, 'wind': {'speed': 1.01, 'deg': 11, 'gust': 7}, 'clouds': {'all': 7}, 'dt': 1596583345, 'sys': {'type': 3, 'id': 2003593, 'country': 'US', 'sunrise': 1596545066, 'sunset': 1596598295}, 'timezone': -25200, 'id': 5815135, 'name': 'Washington', 'cod': 200}\n",
      "Tweeted successfully!\n",
      "{'coord': {'lon': -120.5, 'lat': 47.5}, 'weather': [{'id': 800, 'main': 'Clear', 'description': 'clear sky', 'icon': '01d'}], 'base': 'stations', 'main': {'temp': 91.29, 'feels_like': 89.17, 'temp_min': 90, 'temp_max': 93, 'pressure': 1009, 'humidity': 19}, 'visibility': 10000, 'wind': {'speed': 1.01, 'deg': 11, 'gust': 7}, 'clouds': {'all': 7}, 'dt': 1596583345, 'sys': {'type': 3, 'id': 2003593, 'country': 'US', 'sunrise': 1596545066, 'sunset': 1596598295}, 'timezone': -25200, 'id': 5815135, 'name': 'Washington', 'cod': 200}\n",
      "Tweeted successfully!\n",
      "{'coord': {'lon': -120.5, 'lat': 47.5}, 'weather': [{'id': 800, 'main': 'Clear', 'description': 'clear sky', 'icon': '01d'}], 'base': 'stations', 'main': {'temp': 91.29, 'feels_like': 89.17, 'temp_min': 90, 'temp_max': 93, 'pressure': 1009, 'humidity': 19}, 'visibility': 10000, 'wind': {'speed': 1.01, 'deg': 11, 'gust': 7}, 'clouds': {'all': 7}, 'dt': 1596583345, 'sys': {'type': 3, 'id': 2003593, 'country': 'US', 'sunrise': 1596545066, 'sunset': 1596598295}, 'timezone': -25200, 'id': 5815135, 'name': 'Washington', 'cod': 200}\n",
      "Tweeted successfully!\n",
      "{'coord': {'lon': -120.5, 'lat': 47.5}, 'weather': [{'id': 800, 'main': 'Clear', 'description': 'clear sky', 'icon': '01d'}], 'base': 'stations', 'main': {'temp': 91.29, 'feels_like': 89.17, 'temp_min': 90, 'temp_max': 93, 'pressure': 1009, 'humidity': 19}, 'visibility': 10000, 'wind': {'speed': 1.01, 'deg': 11, 'gust': 7}, 'clouds': {'all': 7}, 'dt': 1596583345, 'sys': {'type': 3, 'id': 2003593, 'country': 'US', 'sunrise': 1596545066, 'sunset': 1596598295}, 'timezone': -25200, 'id': 5815135, 'name': 'Washington', 'cod': 200}\n",
      "Tweeted successfully!\n",
      "{'coord': {'lon': -120.5, 'lat': 47.5}, 'weather': [{'id': 800, 'main': 'Clear', 'description': 'clear sky', 'icon': '01d'}], 'base': 'stations', 'main': {'temp': 91.29, 'feels_like': 89.17, 'temp_min': 90, 'temp_max': 93, 'pressure': 1009, 'humidity': 19}, 'visibility': 10000, 'wind': {'speed': 1.01, 'deg': 11, 'gust': 7}, 'clouds': {'all': 7}, 'dt': 1596583345, 'sys': {'type': 3, 'id': 2003593, 'country': 'US', 'sunrise': 1596545066, 'sunset': 1596598295}, 'timezone': -25200, 'id': 5815135, 'name': 'Washington', 'cod': 200}\n",
      "Tweeted successfully!\n",
      "{'coord': {'lon': -120.5, 'lat': 47.5}, 'weather': [{'id': 800, 'main': 'Clear', 'description': 'clear sky', 'icon': '01d'}], 'base': 'stations', 'main': {'temp': 91.29, 'feels_like': 89.17, 'temp_min': 90, 'temp_max': 93, 'pressure': 1009, 'humidity': 19}, 'visibility': 10000, 'wind': {'speed': 1.01, 'deg': 11, 'gust': 7}, 'clouds': {'all': 7}, 'dt': 1596583345, 'sys': {'type': 3, 'id': 2003593, 'country': 'US', 'sunrise': 1596545066, 'sunset': 1596598295}, 'timezone': -25200, 'id': 5815135, 'name': 'Washington', 'cod': 200}\n",
      "Tweeted successfully!\n",
      "{'coord': {'lon': -120.5, 'lat': 47.5}, 'weather': [{'id': 800, 'main': 'Clear', 'description': 'clear sky', 'icon': '01d'}], 'base': 'stations', 'main': {'temp': 91.29, 'feels_like': 89.17, 'temp_min': 90, 'temp_max': 93, 'pressure': 1009, 'humidity': 19}, 'visibility': 10000, 'wind': {'speed': 1.01, 'deg': 11, 'gust': 7}, 'clouds': {'all': 7}, 'dt': 1596583345, 'sys': {'type': 3, 'id': 2003593, 'country': 'US', 'sunrise': 1596545066, 'sunset': 1596598295}, 'timezone': -25200, 'id': 5815135, 'name': 'Washington', 'cod': 200}\n",
      "Tweeted successfully!\n",
      "{'coord': {'lon': -120.5, 'lat': 47.5}, 'weather': [{'id': 800, 'main': 'Clear', 'description': 'clear sky', 'icon': '01d'}], 'base': 'stations', 'main': {'temp': 91.29, 'feels_like': 89.17, 'temp_min': 90, 'temp_max': 93, 'pressure': 1009, 'humidity': 19}, 'visibility': 10000, 'wind': {'speed': 1.01, 'deg': 11, 'gust': 7}, 'clouds': {'all': 7}, 'dt': 1596583345, 'sys': {'type': 3, 'id': 2003593, 'country': 'US', 'sunrise': 1596545066, 'sunset': 1596598295}, 'timezone': -25200, 'id': 5815135, 'name': 'Washington', 'cod': 200}\n",
      "Tweeted successfully!\n",
      "{'coord': {'lon': -120.5, 'lat': 47.5}, 'weather': [{'id': 800, 'main': 'Clear', 'description': 'clear sky', 'icon': '01d'}], 'base': 'stations', 'main': {'temp': 91.29, 'feels_like': 89.17, 'temp_min': 90, 'temp_max': 93, 'pressure': 1009, 'humidity': 19}, 'visibility': 10000, 'wind': {'speed': 1.01, 'deg': 11, 'gust': 7}, 'clouds': {'all': 7}, 'dt': 1596583345, 'sys': {'type': 3, 'id': 2003593, 'country': 'US', 'sunrise': 1596545066, 'sunset': 1596598295}, 'timezone': -25200, 'id': 5815135, 'name': 'Washington', 'cod': 200}\n",
      "Tweeted successfully!\n",
      "{'coord': {'lon': -120.5, 'lat': 47.5}, 'weather': [{'id': 800, 'main': 'Clear', 'description': 'clear sky', 'icon': '01d'}], 'base': 'stations', 'main': {'temp': 91.29, 'feels_like': 89.17, 'temp_min': 90, 'temp_max': 93, 'pressure': 1009, 'humidity': 19}, 'visibility': 10000, 'wind': {'speed': 1.01, 'deg': 11, 'gust': 7}, 'clouds': {'all': 7}, 'dt': 1596583345, 'sys': {'type': 3, 'id': 2003593, 'country': 'US', 'sunrise': 1596545066, 'sunset': 1596598295}, 'timezone': -25200, 'id': 5815135, 'name': 'Washington', 'cod': 200}\n"
     ]
    },
    {
     "ename": "TweepError",
     "evalue": "[{'code': 185, 'message': 'User is over daily status update limit.'}]",
     "output_type": "error",
     "traceback": [
      "\u001b[1;31m---------------------------------------------------------------------------\u001b[0m",
      "\u001b[1;31mTweepError\u001b[0m                                Traceback (most recent call last)",
      "\u001b[1;32m<ipython-input-5-d0bd9f5d0dfe>\u001b[0m in \u001b[0;36m<module>\u001b[1;34m\u001b[0m\n\u001b[0;32m      1\u001b[0m \u001b[1;31m# Tweet out the weather every one minute\u001b[0m\u001b[1;33m\u001b[0m\u001b[1;33m\u001b[0m\u001b[1;33m\u001b[0m\u001b[0m\n\u001b[0;32m      2\u001b[0m \u001b[1;32mwhile\u001b[0m\u001b[1;33m(\u001b[0m\u001b[1;32mTrue\u001b[0m\u001b[1;33m)\u001b[0m\u001b[1;33m:\u001b[0m\u001b[1;33m\u001b[0m\u001b[1;33m\u001b[0m\u001b[0m\n\u001b[1;32m----> 3\u001b[1;33m     \u001b[0mWeatherTweet\u001b[0m\u001b[1;33m(\u001b[0m\u001b[1;33m)\u001b[0m\u001b[1;33m\u001b[0m\u001b[1;33m\u001b[0m\u001b[0m\n\u001b[0m\u001b[0;32m      4\u001b[0m     \u001b[0mtime\u001b[0m\u001b[1;33m.\u001b[0m\u001b[0msleep\u001b[0m\u001b[1;33m(\u001b[0m\u001b[1;36m60\u001b[0m\u001b[1;33m)\u001b[0m\u001b[1;33m\u001b[0m\u001b[1;33m\u001b[0m\u001b[0m\n",
      "\u001b[1;32m<ipython-input-3-5a0f2a2214f2>\u001b[0m in \u001b[0;36mWeatherTweet\u001b[1;34m()\u001b[0m\n\u001b[0;32m     22\u001b[0m         \u001b[1;34m\"[Atobot] - Weather in DC \"\u001b[0m \u001b[1;33m+\u001b[0m\u001b[0;31m\\\u001b[0m\u001b[1;33m\u001b[0m\u001b[1;33m\u001b[0m\u001b[0m\n\u001b[0;32m     23\u001b[0m         (datetime.datetime.now().strftime(\"%I:%M %p\") + \" \" +\\\n\u001b[1;32m---> 24\u001b[1;33m          str(weather_json[\"main\"][\"temp\"])+\"F\"))\n\u001b[0m\u001b[0;32m     25\u001b[0m \u001b[1;33m\u001b[0m\u001b[0m\n\u001b[0;32m     26\u001b[0m     \u001b[1;31m# Print success message\u001b[0m\u001b[1;33m\u001b[0m\u001b[1;33m\u001b[0m\u001b[1;33m\u001b[0m\u001b[0m\n",
      "\u001b[1;32m~\\Anaconda3\\lib\\site-packages\\tweepy\\api.py\u001b[0m in \u001b[0;36mupdate_status\u001b[1;34m(self, *args, **kwargs)\u001b[0m\n\u001b[0;32m    191\u001b[0m             \u001b[0mallowed_param\u001b[0m\u001b[1;33m=\u001b[0m\u001b[1;33m[\u001b[0m\u001b[1;34m'status'\u001b[0m\u001b[1;33m,\u001b[0m \u001b[1;34m'in_reply_to_status_id'\u001b[0m\u001b[1;33m,\u001b[0m \u001b[1;34m'in_reply_to_status_id_str'\u001b[0m\u001b[1;33m,\u001b[0m \u001b[1;34m'auto_populate_reply_metadata'\u001b[0m\u001b[1;33m,\u001b[0m \u001b[1;34m'lat'\u001b[0m\u001b[1;33m,\u001b[0m \u001b[1;34m'long'\u001b[0m\u001b[1;33m,\u001b[0m \u001b[1;34m'source'\u001b[0m\u001b[1;33m,\u001b[0m \u001b[1;34m'place_id'\u001b[0m\u001b[1;33m,\u001b[0m \u001b[1;34m'display_coordinates'\u001b[0m\u001b[1;33m]\u001b[0m\u001b[1;33m,\u001b[0m\u001b[1;33m\u001b[0m\u001b[1;33m\u001b[0m\u001b[0m\n\u001b[0;32m    192\u001b[0m             \u001b[0mrequire_auth\u001b[0m\u001b[1;33m=\u001b[0m\u001b[1;32mTrue\u001b[0m\u001b[1;33m\u001b[0m\u001b[1;33m\u001b[0m\u001b[0m\n\u001b[1;32m--> 193\u001b[1;33m         )(post_data=post_data, *args, **kwargs)\n\u001b[0m\u001b[0;32m    194\u001b[0m \u001b[1;33m\u001b[0m\u001b[0m\n\u001b[0;32m    195\u001b[0m     \u001b[1;32mdef\u001b[0m \u001b[0mmedia_upload\u001b[0m\u001b[1;33m(\u001b[0m\u001b[0mself\u001b[0m\u001b[1;33m,\u001b[0m \u001b[0mfilename\u001b[0m\u001b[1;33m,\u001b[0m \u001b[1;33m*\u001b[0m\u001b[0margs\u001b[0m\u001b[1;33m,\u001b[0m \u001b[1;33m**\u001b[0m\u001b[0mkwargs\u001b[0m\u001b[1;33m)\u001b[0m\u001b[1;33m:\u001b[0m\u001b[1;33m\u001b[0m\u001b[1;33m\u001b[0m\u001b[0m\n",
      "\u001b[1;32m~\\Anaconda3\\lib\\site-packages\\tweepy\\binder.py\u001b[0m in \u001b[0;36m_call\u001b[1;34m(*args, **kwargs)\u001b[0m\n\u001b[0;32m    248\u001b[0m                 \u001b[1;32mreturn\u001b[0m \u001b[0mmethod\u001b[0m\u001b[1;33m\u001b[0m\u001b[1;33m\u001b[0m\u001b[0m\n\u001b[0;32m    249\u001b[0m             \u001b[1;32melse\u001b[0m\u001b[1;33m:\u001b[0m\u001b[1;33m\u001b[0m\u001b[1;33m\u001b[0m\u001b[0m\n\u001b[1;32m--> 250\u001b[1;33m                 \u001b[1;32mreturn\u001b[0m \u001b[0mmethod\u001b[0m\u001b[1;33m.\u001b[0m\u001b[0mexecute\u001b[0m\u001b[1;33m(\u001b[0m\u001b[1;33m)\u001b[0m\u001b[1;33m\u001b[0m\u001b[1;33m\u001b[0m\u001b[0m\n\u001b[0m\u001b[0;32m    251\u001b[0m         \u001b[1;32mfinally\u001b[0m\u001b[1;33m:\u001b[0m\u001b[1;33m\u001b[0m\u001b[1;33m\u001b[0m\u001b[0m\n\u001b[0;32m    252\u001b[0m             \u001b[0mmethod\u001b[0m\u001b[1;33m.\u001b[0m\u001b[0msession\u001b[0m\u001b[1;33m.\u001b[0m\u001b[0mclose\u001b[0m\u001b[1;33m(\u001b[0m\u001b[1;33m)\u001b[0m\u001b[1;33m\u001b[0m\u001b[1;33m\u001b[0m\u001b[0m\n",
      "\u001b[1;32m~\\Anaconda3\\lib\\site-packages\\tweepy\\binder.py\u001b[0m in \u001b[0;36mexecute\u001b[1;34m(self)\u001b[0m\n\u001b[0;32m    231\u001b[0m                     \u001b[1;32mraise\u001b[0m \u001b[0mRateLimitError\u001b[0m\u001b[1;33m(\u001b[0m\u001b[0merror_msg\u001b[0m\u001b[1;33m,\u001b[0m \u001b[0mresp\u001b[0m\u001b[1;33m)\u001b[0m\u001b[1;33m\u001b[0m\u001b[1;33m\u001b[0m\u001b[0m\n\u001b[0;32m    232\u001b[0m                 \u001b[1;32melse\u001b[0m\u001b[1;33m:\u001b[0m\u001b[1;33m\u001b[0m\u001b[1;33m\u001b[0m\u001b[0m\n\u001b[1;32m--> 233\u001b[1;33m                     \u001b[1;32mraise\u001b[0m \u001b[0mTweepError\u001b[0m\u001b[1;33m(\u001b[0m\u001b[0merror_msg\u001b[0m\u001b[1;33m,\u001b[0m \u001b[0mresp\u001b[0m\u001b[1;33m,\u001b[0m \u001b[0mapi_code\u001b[0m\u001b[1;33m=\u001b[0m\u001b[0mapi_error_code\u001b[0m\u001b[1;33m)\u001b[0m\u001b[1;33m\u001b[0m\u001b[1;33m\u001b[0m\u001b[0m\n\u001b[0m\u001b[0;32m    234\u001b[0m \u001b[1;33m\u001b[0m\u001b[0m\n\u001b[0;32m    235\u001b[0m             \u001b[1;31m# Parse the response payload\u001b[0m\u001b[1;33m\u001b[0m\u001b[1;33m\u001b[0m\u001b[1;33m\u001b[0m\u001b[0m\n",
      "\u001b[1;31mTweepError\u001b[0m: [{'code': 185, 'message': 'User is over daily status update limit.'}]"
     ]
    }
   ],
   "source": [
    "# Tweet out the weather every one minute\n",
    "while(True):\n",
    "    WeatherTweet()\n",
    "    time.sleep(60)"
   ]
  }
 ],
 "metadata": {
  "kernelspec": {
   "display_name": "Python 3",
   "language": "python",
   "name": "python3"
  },
  "language_info": {
   "codemirror_mode": {
    "name": "ipython",
    "version": 3
   },
   "file_extension": ".py",
   "mimetype": "text/x-python",
   "name": "python",
   "nbconvert_exporter": "python",
   "pygments_lexer": "ipython3",
   "version": "3.7.4"
  },
  "varInspector": {
   "cols": {
    "lenName": 16,
    "lenType": 16,
    "lenVar": 40
   },
   "kernels_config": {
    "python": {
     "delete_cmd_postfix": "",
     "delete_cmd_prefix": "del ",
     "library": "var_list.py",
     "varRefreshCmd": "print(var_dic_list())"
    },
    "r": {
     "delete_cmd_postfix": ") ",
     "delete_cmd_prefix": "rm(",
     "library": "var_list.r",
     "varRefreshCmd": "cat(var_dic_list()) "
    }
   },
   "types_to_exclude": [
    "module",
    "function",
    "builtin_function_or_method",
    "instance",
    "_Feature"
   ],
   "window_display": false
  }
 },
 "nbformat": 4,
 "nbformat_minor": 2
}
